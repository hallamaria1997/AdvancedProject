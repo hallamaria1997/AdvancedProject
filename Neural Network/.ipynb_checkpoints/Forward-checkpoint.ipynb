{
 "cells": [
  {
   "cell_type": "code",
   "execution_count": 2,
   "id": "8f4ff1d0",
   "metadata": {},
   "outputs": [],
   "source": [
    "# Import cell"
   ]
  },
  {
   "cell_type": "code",
   "execution_count": 1,
   "id": "45f45862",
   "metadata": {},
   "outputs": [],
   "source": [
    "# this file will:\n",
    "    #1. load data\n",
    "    #2. import the network developed\n",
    "    #3. train the network on training data"
   ]
  },
  {
   "cell_type": "code",
   "execution_count": null,
   "id": "564d491f",
   "metadata": {},
   "outputs": [],
   "source": []
  }
 ],
 "metadata": {
  "kernelspec": {
   "display_name": "Python 3 (ipykernel)",
   "language": "python",
   "name": "python3"
  },
  "language_info": {
   "codemirror_mode": {
    "name": "ipython",
    "version": 3
   },
   "file_extension": ".py",
   "mimetype": "text/x-python",
   "name": "python",
   "nbconvert_exporter": "python",
   "pygments_lexer": "ipython3",
   "version": "3.7.4"
  }
 },
 "nbformat": 4,
 "nbformat_minor": 5
}
