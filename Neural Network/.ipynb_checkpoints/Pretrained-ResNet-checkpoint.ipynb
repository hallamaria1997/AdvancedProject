{
 "cells": [
  {
   "cell_type": "code",
   "execution_count": 1,
   "id": "9101685a",
   "metadata": {},
   "outputs": [],
   "source": [
    "import torch\n",
    "import torch.nn as nn\n",
    "import math\n",
    "from collections import OrderedDict"
   ]
  },
  {
   "cell_type": "code",
   "execution_count": 2,
   "id": "eaa9e0c2",
   "metadata": {},
   "outputs": [],
   "source": [
    "\n",
    "\n",
    "################## ResNet ##################\n",
    "def conv3x3(in_planes, out_planes, stride=1):\n",
    "    # 3x3 convolution with padding\n",
    "    return nn.Conv2d(in_planes, out_planes, kernel_size=3, stride=stride, padding=1, bias=False)\n",
    "\n",
    "class BasicBlock(nn.Module):\n",
    "    expansion = 1\n",
    "    def __init__(self, inplanes, planes, stride=1, downsample=None):\n",
    "        super(BasicBlock, self).__init__()\n",
    "        m = OrderedDict()\n",
    "        m['conv1'] = conv3x3(inplanes, planes, stride)\n",
    "        m['bn1'] = nn.BatchNorm2d(planes)\n",
    "        m['relu1'] = nn.ReLU(inplace=True)\n",
    "        m['conv2'] = conv3x3(planes, planes)\n",
    "        m['bn2'] = nn.BatchNorm2d(planes)\n",
    "        self.group1 = nn.Sequential(m)\n",
    "        self.relu = nn.Sequential(nn.ReLU(inplace=True))\n",
    "        self.downsample = downsample\n",
    "\n",
    "    def forward(self, x):\n",
    "        if self.downsample is not None:\n",
    "            residual = self.downsample(x)\n",
    "        else:\n",
    "            residual = x\n",
    "        out = self.group1(x) + residual\n",
    "        out = self.relu(out)\n",
    "\n",
    "        return out\n",
    "\n",
    "class ResNet(nn.Module):\n",
    "    def __init__(self, block, layers, num_classes=1000):\n",
    "        self.inplanes = 64\n",
    "        super(ResNet, self).__init__()\n",
    "\n",
    "        m = OrderedDict()\n",
    "        m['conv1'] = nn.Conv2d(3, 64, kernel_size=7, stride=2, padding=3, bias=False)\n",
    "        m['bn1'] = nn.BatchNorm2d(64)\n",
    "        m['relu1'] = nn.ReLU(inplace=True)\n",
    "        m['maxpool'] = nn.MaxPool2d(kernel_size=3, stride=2, padding=1)\n",
    "        self.group1= nn.Sequential(m)\n",
    "\n",
    "        self.layer1 = self._make_layer(block, 64, layers[0])\n",
    "        self.layer2 = self._make_layer(block, 128, layers[1], stride=2)\n",
    "        self.layer3 = self._make_layer(block, 256, layers[2], stride=2)\n",
    "        self.layer4 = self._make_layer(block, 512, layers[3], stride=2)\n",
    "\n",
    "        self.avgpool = nn.Sequential(nn.AvgPool2d(7))\n",
    "        self.group2 = nn.Sequential(\n",
    "            OrderedDict([\n",
    "                ('fullyconnected', nn.Linear(512 * block.expansion, num_classes))\n",
    "            ])\n",
    "        )\n",
    "\n",
    "        for m in self.modules():\n",
    "            if isinstance(m, nn.Conv2d):\n",
    "                n = m.kernel_size[0] * m.kernel_size[1] * m.out_channels\n",
    "                m.weight.data.normal_(0, math.sqrt(2. / n))\n",
    "            elif isinstance(m, nn.BatchNorm2d):\n",
    "                m.weight.data.fill_(1)\n",
    "                m.bias.data.zero_()\n",
    "            elif isinstance(m, nn.Linear):\n",
    "                torch.nn.init.xavier_uniform_(m.weight.data)\n",
    "                torch.nn.init.constant_(m.bias.data, 0)\n",
    "\n",
    "\n",
    "    def _make_layer(self, block, planes, blocks, stride=1):\n",
    "        downsample = None\n",
    "        if stride != 1 or self.inplanes != planes * block.expansion:\n",
    "            downsample = nn.Sequential(\n",
    "                nn.Conv2d(self.inplanes, planes * block.expansion, kernel_size=1, stride=stride, bias=False),\n",
    "                nn.BatchNorm2d(planes * block.expansion),\n",
    "            )\n",
    "\n",
    "        layers = []\n",
    "        layers.append(block(self.inplanes, planes, stride, downsample))\n",
    "        self.inplanes = planes * block.expansion\n",
    "        for i in range(1, blocks):\n",
    "            layers.append(block(self.inplanes, planes))\n",
    "\n",
    "        return nn.Sequential(*layers)\n",
    "\n",
    "    def forward(self, x):\n",
    "        x = self.group1(x)\n",
    "        x = self.layer1(x)\n",
    "        x = self.layer2(x)\n",
    "        x = self.layer3(x)\n",
    "        x = self.layer4(x)\n",
    "        x = self.avgpool(x)\n",
    "        x = x.view(x.size(0), -1)\n",
    "        x = self.group2(x)\n",
    "\n",
    "        return x"
   ]
  },
  {
   "cell_type": "code",
   "execution_count": 3,
   "id": "385f0624",
   "metadata": {},
   "outputs": [],
   "source": [
    "def byte_convert(model: dict) -> dict:\n",
    "    new_model = dict()\n",
    "    for key in model:\n",
    "        if type(key) == bytes:\n",
    "            new_key = key.decode(\"utf-8\")\n",
    "        else:\n",
    "            new_key = key\n",
    "        new_model[new_key] = dict()\n",
    "        if isinstance(model[key], dict):\n",
    "            new_model[new_key] = byte_convert(model[key])\n",
    "        else:\n",
    "            new_model[new_key] = model[key]\n",
    "    return new_model"
   ]
  },
  {
   "cell_type": "code",
   "execution_count": 4,
   "id": "8b9be179",
   "metadata": {},
   "outputs": [],
   "source": [
    "def load_model(model_path: str) -> dict:\n",
    "    return torch.load(model_path, encoding='bytes', map_location=device)"
   ]
  },
  {
   "cell_type": "code",
   "execution_count": 5,
   "id": "c9b7cce6",
   "metadata": {},
   "outputs": [],
   "source": [
    "def load_model2(model_path: str) -> nn.Module:\n",
    "    with open(model_path, 'rb') as f:\n",
    "        buffer = io.BytesIO(f.read())\n",
    "        return torch.load(buffer, map_location=device)"
   ]
  },
  {
   "cell_type": "code",
   "execution_count": 6,
   "id": "232541da",
   "metadata": {},
   "outputs": [],
   "source": [
    "def save_model(model: nn.Module, state_dict: dict) -> None:\n",
    "    model.load_state_dict(state_dict)\n",
    "    model.eval()\n",
    "    torch.save(model, type(model).__name__ + '.pth')"
   ]
  },
  {
   "cell_type": "code",
   "execution_count": 9,
   "id": "92e70d78",
   "metadata": {},
   "outputs": [
    {
     "ename": "TypeError",
     "evalue": "__init__() missing 2 required positional arguments: 'block' and 'layers'",
     "output_type": "error",
     "traceback": [
      "\u001b[1;31m---------------------------------------------------------------------------\u001b[0m",
      "\u001b[1;31mTypeError\u001b[0m                                 Traceback (most recent call last)",
      "\u001b[1;32m~\\AppData\\Local\\Temp\\ipykernel_20852\\3018765283.py\u001b[0m in \u001b[0;36m<module>\u001b[1;34m\u001b[0m\n\u001b[1;32m----> 1\u001b[1;33m \u001b[0mmodel\u001b[0m \u001b[1;33m=\u001b[0m \u001b[0mResNet\u001b[0m\u001b[1;33m(\u001b[0m\u001b[1;33m)\u001b[0m\u001b[1;33m\u001b[0m\u001b[1;33m\u001b[0m\u001b[0m\n\u001b[0m\u001b[0;32m      2\u001b[0m \u001b[1;31m#model = load_model('pytorch-models/resnet18.pth')\u001b[0m\u001b[1;33m\u001b[0m\u001b[1;33m\u001b[0m\u001b[1;33m\u001b[0m\u001b[0m\n",
      "\u001b[1;31mTypeError\u001b[0m: __init__() missing 2 required positional arguments: 'block' and 'layers'"
     ]
    }
   ],
   "source": [
    "model = ResNet()\n",
    "#model = load_model('pytorch-models/resnet18.pth')"
   ]
  },
  {
   "cell_type": "code",
   "execution_count": null,
   "id": "a6233b4b",
   "metadata": {},
   "outputs": [],
   "source": []
  }
 ],
 "metadata": {
  "kernelspec": {
   "display_name": "Python 3 (ipykernel)",
   "language": "python",
   "name": "python3"
  },
  "language_info": {
   "codemirror_mode": {
    "name": "ipython",
    "version": 3
   },
   "file_extension": ".py",
   "mimetype": "text/x-python",
   "name": "python",
   "nbconvert_exporter": "python",
   "pygments_lexer": "ipython3",
   "version": "3.7.4"
  }
 },
 "nbformat": 4,
 "nbformat_minor": 5
}
