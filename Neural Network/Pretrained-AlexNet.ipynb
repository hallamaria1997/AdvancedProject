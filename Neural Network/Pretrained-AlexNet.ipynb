{
 "cells": [
  {
   "cell_type": "code",
   "execution_count": 1,
   "id": "150a5166",
   "metadata": {},
   "outputs": [],
   "source": [
    "import io\n",
    "import torch\n",
    "import torch.nn as nn\n",
    "import math\n",
    "from collections import OrderedDict"
   ]
  },
  {
   "cell_type": "code",
   "execution_count": 2,
   "id": "fcbc1c58",
   "metadata": {},
   "outputs": [],
   "source": [
    "# This code will convert the weights form the pretrained models to be able to use them for Python 3"
   ]
  },
  {
   "cell_type": "code",
   "execution_count": 3,
   "id": "07164ee3",
   "metadata": {},
   "outputs": [],
   "source": [
    "device = torch.device('cuda:0' if torch.cuda.is_available() else 'cpu')"
   ]
  },
  {
   "cell_type": "code",
   "execution_count": 4,
   "id": "8b674af5",
   "metadata": {},
   "outputs": [],
   "source": [
    "################## AlexNet ##################\n",
    "\n",
    "def bn_relu(inplanes):\n",
    "    return nn.Sequential(nn.BatchNorm2d(inplanes), nn.ReLU(inplace=True))\n",
    "\n",
    "def bn_relu_pool(inplanes, kernel_size=3, stride=2):\n",
    "    return nn.Sequential(nn.BatchNorm2d(inplanes), nn.ReLU(inplace=True), nn.MaxPool2d(kernel_size=kernel_size, stride=stride))\n",
    "\n",
    "class AlexNet(nn.Module):\n",
    "    def __init__(self, num_classes=1):\n",
    "        super(AlexNet, self).__init__()\n",
    "        \n",
    "        self.conv1 = nn.Conv2d(3, 96, kernel_size=11, stride=4, bias=False)\n",
    "        self.relu_pool1 = bn_relu_pool(inplanes=96)\n",
    "        self.conv2 = nn.Conv2d(96, 192, kernel_size=5, padding=2, groups=2, bias=False)\n",
    "        self.relu_pool2 = bn_relu_pool(inplanes=192)\n",
    "        self.conv3 = nn.Conv2d(192, 384, kernel_size=3, padding=1, groups=2, bias=False)\n",
    "        self.relu3 = bn_relu(inplanes=384)\n",
    "        self.conv4 = nn.Conv2d(384, 384, kernel_size=3, padding=1, groups=2, bias=False)\n",
    "        self.relu4 = bn_relu(inplanes=384)\n",
    "        self.conv5 = nn.Conv2d(384, 256, kernel_size=3, padding=1, groups=2, bias=False)\n",
    "        self.relu_pool5 = bn_relu_pool(inplanes=256)\n",
    "        # classifier\n",
    "        self.conv6 = nn.Conv2d(256, 256, kernel_size=5, groups=2, bias=False)\n",
    "        self.relu6 = bn_relu(inplanes=256)\n",
    "        self.conv7 = nn.Conv2d(256, num_classes, kernel_size=1, bias=False)\n",
    "\n",
    "    def forward(self, x):\n",
    "        x = self.conv1(x)\n",
    "        x = self.relu_pool1(x)\n",
    "        x = self.conv2(x)\n",
    "        x = self.relu_pool2(x)\n",
    "        x = self.conv3(x)\n",
    "        x = self.relu3(x)\n",
    "        x = self.conv4(x)\n",
    "        x = self.relu4(x)\n",
    "        x = self.conv5(x)\n",
    "        x = self.relu_pool5(x)\n",
    "        x = self.conv6(x)\n",
    "        x = self.relu6(x)\n",
    "        x = self.conv7(x)\n",
    "        x = x.view(x.size(0), -1)\n",
    "        return x"
   ]
  },
  {
   "cell_type": "code",
   "execution_count": 5,
   "id": "874d0f00",
   "metadata": {},
   "outputs": [],
   "source": [
    "def byte_convert(model: dict) -> dict:\n",
    "    new_model = dict()\n",
    "    for key in model:\n",
    "        if type(key) == bytes:\n",
    "            new_key = key.decode(\"utf-8\")\n",
    "        else:\n",
    "            new_key = key\n",
    "        new_model[new_key] = dict()\n",
    "        if isinstance(model[key], dict):\n",
    "            new_model[new_key] = byte_convert(model[key])\n",
    "        else:\n",
    "            new_model[new_key] = model[key]\n",
    "    return new_model"
   ]
  },
  {
   "cell_type": "code",
   "execution_count": 6,
   "id": "cb7883f0",
   "metadata": {},
   "outputs": [],
   "source": [
    "def load_model(model_path: str) -> dict:\n",
    "    return torch.load(model_path, encoding='bytes', map_location=device)"
   ]
  },
  {
   "cell_type": "code",
   "execution_count": 7,
   "id": "f37d2135",
   "metadata": {},
   "outputs": [],
   "source": [
    "def load_model2(model_path: str) -> nn.Module:\n",
    "    with open(model_path, 'rb') as f:\n",
    "        buffer = io.BytesIO(f.read())\n",
    "        return torch.load(buffer, map_location=device)"
   ]
  },
  {
   "cell_type": "code",
   "execution_count": 8,
   "id": "5c8b31fb",
   "metadata": {},
   "outputs": [],
   "source": [
    "def save_model(model: nn.Module, state_dict: dict) -> None:\n",
    "    model.load_state_dict(state_dict)\n",
    "    model.eval()\n",
    "    torch.save(model, type(model).__name__ + '.pth')"
   ]
  },
  {
   "cell_type": "code",
   "execution_count": 9,
   "id": "3f4d552e",
   "metadata": {},
   "outputs": [],
   "source": [
    "model = AlexNet()\n",
    "model = load_model('pytorch-models/alexnet.pth')"
   ]
  },
  {
   "cell_type": "code",
   "execution_count": 10,
   "id": "d551fad4",
   "metadata": {},
   "outputs": [
    {
     "data": {
      "text/plain": [
       "dict_keys([b'optimizer', b'epoch', b'state_dict', b'best_prec1'])"
      ]
     },
     "execution_count": 10,
     "metadata": {},
     "output_type": "execute_result"
    }
   ],
   "source": [
    "model.keys()"
   ]
  },
  {
   "cell_type": "code",
   "execution_count": 11,
   "id": "dc714d02",
   "metadata": {},
   "outputs": [],
   "source": [
    "state_dict = byte_convert(model)['state_dict']"
   ]
  },
  {
   "cell_type": "code",
   "execution_count": 12,
   "id": "cfa30da4",
   "metadata": {},
   "outputs": [],
   "source": [
    "save_model(AlexNet(), state_dict)"
   ]
  },
  {
   "cell_type": "code",
   "execution_count": null,
   "id": "26f4efab",
   "metadata": {},
   "outputs": [],
   "source": []
  }
 ],
 "metadata": {
  "kernelspec": {
   "display_name": "Python 3 (ipykernel)",
   "language": "python",
   "name": "python3"
  },
  "language_info": {
   "codemirror_mode": {
    "name": "ipython",
    "version": 3
   },
   "file_extension": ".py",
   "mimetype": "text/x-python",
   "name": "python",
   "nbconvert_exporter": "python",
   "pygments_lexer": "ipython3",
   "version": "3.7.4"
  }
 },
 "nbformat": 4,
 "nbformat_minor": 5
}
