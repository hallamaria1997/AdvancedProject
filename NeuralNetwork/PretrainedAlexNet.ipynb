{
 "cells": [
  {
   "cell_type": "code",
   "execution_count": 1,
   "id": "b58b1723",
   "metadata": {},
   "outputs": [],
   "source": [
    "import io\n",
    "import torch\n",
    "import torch.nn as nn\n",
    "import math\n",
    "from collections import OrderedDict\n",
    "import torchvision.transforms as transforms\n",
    "from PIL import Image\n",
    "import os"
   ]
  },
  {
   "cell_type": "code",
   "execution_count": 2,
   "id": "84f8bb80",
   "metadata": {},
   "outputs": [],
   "source": [
    "# This code will convert the weights form the pretrained models to be able to use them for Python 3"
   ]
  },
  {
   "cell_type": "code",
   "execution_count": 3,
   "id": "657d4d02",
   "metadata": {},
   "outputs": [],
   "source": [
    "device = torch.device('cuda:0' if torch.cuda.is_available() else 'cpu')"
   ]
  },
  {
   "cell_type": "code",
   "execution_count": 4,
   "id": "f990c8b1",
   "metadata": {},
   "outputs": [],
   "source": [
    "################## AlexNet ##################\n",
    "\n",
    "def bn_relu(inplanes):\n",
    "    return nn.Sequential(nn.BatchNorm2d(inplanes), nn.ReLU(inplace=True))\n",
    "\n",
    "def bn_relu_pool(inplanes, kernel_size=3, stride=2):\n",
    "    return nn.Sequential(nn.BatchNorm2d(inplanes), nn.ReLU(inplace=True), nn.MaxPool2d(kernel_size=kernel_size, stride=stride))\n",
    "\n",
    "class AlexNet(nn.Module):\n",
    "    def __init__(self, num_classes=1):\n",
    "        super(AlexNet, self).__init__()\n",
    "        \n",
    "        self.conv1 = nn.Conv2d(3, 96, kernel_size=11, stride=4, bias=False)\n",
    "        self.relu_pool1 = bn_relu_pool(inplanes=96)\n",
    "        self.conv2 = nn.Conv2d(96, 192, kernel_size=5, padding=2, groups=2, bias=False)\n",
    "        self.relu_pool2 = bn_relu_pool(inplanes=192)\n",
    "        self.conv3 = nn.Conv2d(192, 384, kernel_size=3, padding=1, groups=2, bias=False)\n",
    "        self.relu3 = bn_relu(inplanes=384)\n",
    "        self.conv4 = nn.Conv2d(384, 384, kernel_size=3, padding=1, groups=2, bias=False)\n",
    "        self.relu4 = bn_relu(inplanes=384)\n",
    "        self.conv5 = nn.Conv2d(384, 256, kernel_size=3, padding=1, groups=2, bias=False)\n",
    "        self.relu_pool5 = bn_relu_pool(inplanes=256)\n",
    "        # classifier\n",
    "        self.conv6 = nn.Conv2d(256, 256, kernel_size=5, groups=2, bias=False)\n",
    "        self.relu6 = bn_relu(inplanes=256)\n",
    "        self.conv7 = nn.Conv2d(256, num_classes, kernel_size=1, bias=False)\n",
    "\n",
    "    def forward(self, x):\n",
    "        x = self.conv1(x)\n",
    "        x = self.relu_pool1(x)\n",
    "        x = self.conv2(x)\n",
    "        x = self.relu_pool2(x)\n",
    "        x = self.conv3(x)\n",
    "        x = self.relu3(x)\n",
    "        x = self.conv4(x)\n",
    "        x = self.relu4(x)\n",
    "        x = self.conv5(x)\n",
    "        x = self.relu_pool5(x)\n",
    "        x = self.conv6(x)\n",
    "        x = self.relu6(x)\n",
    "        x = self.conv7(x)\n",
    "        x = x.view(x.size(0), -1)\n",
    "        return x"
   ]
  },
  {
   "cell_type": "code",
   "execution_count": 5,
   "id": "c6812b23",
   "metadata": {},
   "outputs": [],
   "source": [
    "def byte_convert(model: dict) -> dict:\n",
    "    new_model = dict()\n",
    "    for key in model:\n",
    "        if type(key) == bytes:\n",
    "            new_key = key.decode(\"utf-8\")\n",
    "        else:\n",
    "            new_key = key\n",
    "        new_model[new_key] = dict()\n",
    "        if isinstance(model[key], dict):\n",
    "            new_model[new_key] = byte_convert(model[key])\n",
    "        else:\n",
    "            new_model[new_key] = model[key]\n",
    "    return new_model"
   ]
  },
  {
   "cell_type": "code",
   "execution_count": 6,
   "id": "d5ca98c2",
   "metadata": {},
   "outputs": [],
   "source": [
    "def load_model(model_path: str) -> dict:\n",
    "    return torch.load(model_path, encoding='bytes', map_location=device)"
   ]
  },
  {
   "cell_type": "code",
   "execution_count": 7,
   "id": "beed3a62",
   "metadata": {},
   "outputs": [],
   "source": [
    "def load_model2(model_path: str) -> nn.Module:\n",
    "    with open(model_path, 'rb') as f:\n",
    "        buffer = io.BytesIO(f.read())\n",
    "        return torch.load(buffer, map_location=device)"
   ]
  },
  {
   "cell_type": "code",
   "execution_count": 8,
   "id": "f56fe082",
   "metadata": {},
   "outputs": [],
   "source": [
    "def save_model(model: nn.Module, state_dict: dict) -> None:\n",
    "    model.load_state_dict(state_dict)\n",
    "    model.eval()\n",
    "    torch.save(model, type(model).__name__ + '.pth')"
   ]
  },
  {
   "cell_type": "code",
   "execution_count": 9,
   "id": "018b5731",
   "metadata": {},
   "outputs": [],
   "source": [
    "model = AlexNet()\n",
    "model = load_model('pytorch-models/alexnet.pth')"
   ]
  },
  {
   "cell_type": "code",
   "execution_count": 10,
   "id": "60cadec2",
   "metadata": {},
   "outputs": [
    {
     "data": {
      "text/plain": [
       "dict_keys([b'optimizer', b'epoch', b'state_dict', b'best_prec1'])"
      ]
     },
     "execution_count": 10,
     "metadata": {},
     "output_type": "execute_result"
    }
   ],
   "source": [
    "model.keys()"
   ]
  },
  {
   "cell_type": "code",
   "execution_count": 11,
   "id": "77916dec",
   "metadata": {},
   "outputs": [],
   "source": [
    "state_dict = byte_convert(model)['state_dict']"
   ]
  },
  {
   "cell_type": "code",
   "execution_count": 12,
   "id": "fe2f048a",
   "metadata": {},
   "outputs": [],
   "source": [
    "save_model(AlexNet(), state_dict)"
   ]
  },
  {
   "cell_type": "code",
   "execution_count": 13,
   "id": "e3107142",
   "metadata": {},
   "outputs": [],
   "source": [
    "def read_img(root, filedir, transform=None):\n",
    "    # Data loading\n",
    "    with open(filedir, 'r') as f:\n",
    "        lines = f.readlines()  \n",
    "    output = []    \n",
    "    for line in lines:\n",
    "        linesplit = line.split('\\n')[0].split(' ')\n",
    "        addr = linesplit[0]\n",
    "        #target = torch.Tensor([float(linesplit[1])])\n",
    "        img = Image.open(os.path.join(root, addr)).convert('RGB')\n",
    "\n",
    "        if transform is not None:\n",
    "            img = transform(img)\n",
    "        \n",
    "        output.append([img, 0])\n",
    "\n",
    "    return output\n"
   ]
  },
  {
   "cell_type": "code",
   "execution_count": 14,
   "id": "7acbc273",
   "metadata": {},
   "outputs": [],
   "source": [
    "def load_model(pretrained_dict, new):\n",
    "    model_dict = new.state_dict()\n",
    "    #print(new.state_dict())\n",
    "    # 1. filter out unnecessary keys\n",
    "    pretrained_dict = {k: v for k, v in pretrained_dict.state_dict().items() if k in model_dict}\n",
    "    # 2. overwrite entries in the existing state dict\n",
    "    model_dict.update(pretrained_dict)\n",
    "    new.load_state_dict(model_dict)"
   ]
  },
  {
   "cell_type": "code",
   "execution_count": 15,
   "id": "b805347c",
   "metadata": {},
   "outputs": [],
   "source": [
    "import numpy as np"
   ]
  },
  {
   "cell_type": "code",
   "execution_count": 19,
   "id": "d7f07488",
   "metadata": {},
   "outputs": [
    {
     "name": "stdout",
     "output_type": "stream",
     "text": [
      "[3.6961493]\n"
     ]
    }
   ],
   "source": [
    "def main():\n",
    "    # net definition \n",
    "    net = AlexNet()\n",
    "    # net = Nets.ResNet(block = Nets.BasicBlock, layers = [2, 2, 2, 2], num_classes = 1).cuda()\n",
    "\n",
    "    # load pretrained model\n",
    "    load_model(torch.load('AlexNet.pth', map_location=torch.device('cpu')), net) #load_model('pytorch-models/alexnet.pth')\n",
    "    # load_model(torch.load('./models/resnet18.pth'), net)\n",
    "\n",
    "    # evaluate\n",
    "    net.eval()\n",
    "\n",
    "    # loading data...\n",
    "    root = './data/input_test' #'C:/Users/Lenovo/Documents/AdvancedProject/NeuralNetwork/data/morph16'\n",
    "    valdir = './data/1/test16morph.txt'\n",
    "    #root = 'C:/Users/Lenovo/Documents/DTU-AP/Multi-Morph/asian/af/asian_female_16'\n",
    "    #valdir = './data/1/morph16.txt'\n",
    "    #valdir = './data/1/test1.txt'\n",
    "    transform = transforms.Compose([\n",
    "            transforms.Resize(256),\n",
    "            transforms.CenterCrop(224),\n",
    "            transforms.ToTensor(),\n",
    "            transforms.Normalize(mean=[0.485, 0.456, 0.406], std=[0.229, 0.224, 0.225]),])  \n",
    "    val_dataset = read_img(root, valdir, transform=transform)\n",
    "\n",
    "    with torch.no_grad():\n",
    "        #label = []\n",
    "        pred = []\n",
    "\n",
    "        for i, (img, target) in enumerate(val_dataset):\n",
    "            img = img.unsqueeze(0)#.cuda(non_blocking=True)\n",
    "            #target = target#.cuda(non_blocking=True)\n",
    "            output = net(img).squeeze(1)\n",
    "            #label.append(target.cpu()[0])\n",
    "            pred.append(output.cpu()[0])\n",
    "            #print(i)\n",
    "\n",
    "        # measurements\n",
    "        #label = np.array(label)\n",
    "        pred = np.array(pred)\n",
    "        #correlation = np.corrcoef(label, pred)[0][1]\n",
    "        #mae = np.mean(np.abs(label - pred))\n",
    "        #rmse = np.sqrt(np.mean(np.square(label - pred)))\n",
    "        \n",
    "    #print('Label: {} - Prediction: {}'.format(label.mean(),pred.mean()))\n",
    "    #print('Prediction: {}'.format(pred.mean()))\n",
    "    print(pred)\n",
    "    #print('Correlation:{correlation:.4f}\\t'\n",
    "    #      'Mae:{mae:.4f}\\t'\n",
    "    #      'Rmse:{rmse:.4f}\\t'.format(\n",
    "    #        correlation=correlation, mae=mae, rmse=rmse))\n",
    "\n",
    "\n",
    "if __name__ == '__main__':\n",
    "    main()"
   ]
  },
  {
   "cell_type": "code",
   "execution_count": null,
   "id": "5043c1cb",
   "metadata": {},
   "outputs": [],
   "source": []
  },
  {
   "cell_type": "code",
   "execution_count": null,
   "id": "d70ba3e2",
   "metadata": {},
   "outputs": [],
   "source": []
  }
 ],
 "metadata": {
  "kernelspec": {
   "display_name": "Python 3 (ipykernel)",
   "language": "python",
   "name": "python3"
  },
  "language_info": {
   "codemirror_mode": {
    "name": "ipython",
    "version": 3
   },
   "file_extension": ".py",
   "mimetype": "text/x-python",
   "name": "python",
   "nbconvert_exporter": "python",
   "pygments_lexer": "ipython3",
   "version": "3.8.12"
  }
 },
 "nbformat": 4,
 "nbformat_minor": 5
}
