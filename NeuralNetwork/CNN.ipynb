{
 "cells": [
  {
   "cell_type": "code",
   "execution_count": 1,
   "id": "e33ebc77",
   "metadata": {},
   "outputs": [],
   "source": [
    "import torch\n",
    "import torch.nn as nn\n",
    "import math"
   ]
  },
  {
   "cell_type": "code",
   "execution_count": 2,
   "id": "e56179db",
   "metadata": {},
   "outputs": [],
   "source": [
    "# Place AlexNet?"
   ]
  },
  {
   "cell_type": "code",
   "execution_count": 3,
   "id": "b711f67c",
   "metadata": {},
   "outputs": [],
   "source": [
    "# Place ResNet?"
   ]
  },
  {
   "cell_type": "code",
   "execution_count": null,
   "id": "741a2571",
   "metadata": {},
   "outputs": [],
   "source": []
  }
 ],
 "metadata": {
  "kernelspec": {
   "display_name": "Python 3 (ipykernel)",
   "language": "python",
   "name": "python3"
  },
  "language_info": {
   "codemirror_mode": {
    "name": "ipython",
    "version": 3
   },
   "file_extension": ".py",
   "mimetype": "text/x-python",
   "name": "python",
   "nbconvert_exporter": "python",
   "pygments_lexer": "ipython3",
   "version": "3.7.4"
  }
 },
 "nbformat": 4,
 "nbformat_minor": 5
}
